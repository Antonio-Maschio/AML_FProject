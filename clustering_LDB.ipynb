{
 "cells": [
  {
   "cell_type": "code",
   "execution_count": null,
   "metadata": {},
   "outputs": [],
   "source": [
    "import numpy as np\n",
    "import matplotlib.pyplot as plt\n",
    "from tqdm import tqdm\n",
    "\n",
    "import os\n",
    "from cellpose import io\n",
    "from liams_funcs import *\n",
    "from features import *\n",
    "\n",
    "import pandas as pd"
   ]
  },
  {
   "cell_type": "code",
   "execution_count": null,
   "metadata": {},
   "outputs": [],
   "source": [
    "control_dir = '../control_images/'\n",
    "penetramax_dir = '../penetramax_images/'\n",
    "\n",
    "control_fnames = [control_dir + fname for fname in os.listdir(control_dir)]\n",
    "penetramax_fnames = [penetramax_dir + fname for fname in os.listdir(penetramax_dir)]"
   ]
  },
  {
   "cell_type": "code",
   "execution_count": null,
   "metadata": {},
   "outputs": [],
   "source": [
    "fname1 = '../control_images/001_z26.png'\n",
    "fname2 = '../penetramax_images/011_z57.png'"
   ]
  },
  {
   "cell_type": "code",
   "execution_count": null,
   "metadata": {},
   "outputs": [],
   "source": [
    "data = np.load('../segments/control/001_z26.png.npy')\n",
    "image = io.imread('../control_images/001_z26.png')\n",
    "\n",
    "reds, blues = image[:,:,0], image[:,:,2]\n",
    "combined_cells, combined_nuclei = data[:,:,0], data[:,:,1]\n",
    "\n",
    "vals = get_mask_levels(combined_nuclei)\n",
    "fig, axes = plt.subplots(3, 2, figsize=(12, 12), dpi=300)\n",
    "\n",
    "for val in vals:\n",
    "    mask = (combined_nuclei == val)\n",
    "    red = reds[mask]\n",
    "    blue = blues[mask]\n",
    "\n",
    "    counts_red, edges = np.histogram(red, bins=64, range=(0,255), density=True)\n",
    "    counts_blue, _ = np.histogram(blue, bins=64, range=(0,255), density=True)\n",
    "\n",
    "    axes[0,0].stairs(counts_red, edges, fill=True, alpha=0.05, color='firebrick')\n",
    "    axes[0,1].stairs(counts_blue, edges, fill=True, alpha=0.05, color='dodgerblue')\n",
    "\n",
    "    counts_red, edges = np.histogram(ZtoRGB(gaussian_normalisation(red)), bins=64, range=(0, 255), density=True)\n",
    "    counts_blue, _= np.histogram(ZtoRGB(gaussian_normalisation(blue)), bins=64, range=(0, 255), density=True)\n",
    "\n",
    "    axes[1,0].stairs(counts_red, edges, fill=True, alpha=0.05, color='firebrick')\n",
    "    axes[1,1].stairs(counts_blue, edges, fill=True, alpha=0.05, color='dodgerblue')\n",
    "\n",
    "    counts_red, edges = np.histogram(ZtoRGB(quantile_normalisation(red)), bins=64, range=(0, 255), density=True)\n",
    "    counts_blue, _ = np.histogram(ZtoRGB(quantile_normalisation(blue)), bins=64, range=(0, 255), density=True)\n",
    "\n",
    "    axes[2,0].stairs(counts_red, edges, fill=True, alpha=0.05, color='firebrick')\n",
    "    axes[2,1].stairs(counts_blue, edges, fill=True, alpha=0.05, color='dodgerblue')\n",
    "\n",
    "for ax in axes.flatten():\n",
    "    ax.set_ylim(0)\n",
    "    ax.set_ylabel('Probability density')\n",
    "    ax.set_xlabel('Pixel value')\n",
    "    ax.set_xlim(0, 255)\n",
    "    \n",
    "axes[0,0].set_title('No normalisation'); axes[1,0].set_title('Gaussian normalisation'); axes[2,0].set_title('Quantile normalisation')\n",
    "\n",
    "plt.tight_layout()\n",
    "plt.savefig('../figures/spectrum_normalisations_control.png', dpi=300, bbox_inches='tight')\n",
    "plt.show()"
   ]
  },
  {
   "cell_type": "code",
   "execution_count": null,
   "metadata": {},
   "outputs": [],
   "source": [
    "data = np.load('../segments/penetramax/011_z57.png.npy')\n",
    "image = io.imread('../penetramax_images/011_z57.png')\n",
    "\n",
    "reds, blues = image[:,:,0], image[:,:,2]\n",
    "combined_cells, combined_nuclei = data[:,:,0], data[:,:,1]\n",
    "\n",
    "vals = get_mask_levels(combined_nuclei)\n",
    "fig, axes = plt.subplots(3, 2, figsize=(12, 12), dpi=300)\n",
    "\n",
    "for val in vals:\n",
    "    mask = (combined_nuclei == val)\n",
    "    red = reds[mask]\n",
    "    blue = blues[mask]\n",
    "\n",
    "    counts_red, edges = np.histogram(red, bins=64, range=(0,255), density=True)\n",
    "    counts_blue, _ = np.histogram(blue, bins=64, range=(0,255), density=True)\n",
    "\n",
    "    axes[0,0].stairs(counts_red, edges, fill=True, alpha=0.05, color='firebrick')\n",
    "    axes[0,1].stairs(counts_blue, edges, fill=True, alpha=0.05, color='dodgerblue')\n",
    "\n",
    "    counts_red, edges = np.histogram(ZtoRGB(gaussian_normalisation(red)), bins=64, range=(0, 255), density=True)\n",
    "    counts_blue, _= np.histogram(ZtoRGB(gaussian_normalisation(blue)), bins=64, range=(0, 255), density=True)\n",
    "\n",
    "    axes[1,0].stairs(counts_red, edges, fill=True, alpha=0.05, color='firebrick')\n",
    "    axes[1,1].stairs(counts_blue, edges, fill=True, alpha=0.05, color='dodgerblue')\n",
    "\n",
    "    counts_red, edges = np.histogram(ZtoRGB(quantile_normalisation(red)), bins=64, range=(0, 255), density=True)\n",
    "    counts_blue, _ = np.histogram(ZtoRGB(quantile_normalisation(blue)), bins=64, range=(0, 255), density=True)\n",
    "\n",
    "    axes[2,0].stairs(counts_red, edges, fill=True, alpha=0.05, color='firebrick')\n",
    "    axes[2,1].stairs(counts_blue, edges, fill=True, alpha=0.05, color='dodgerblue')\n",
    "\n",
    "for ax in axes.flatten():\n",
    "    ax.set_ylim(0)\n",
    "    ax.set_ylabel('Probability density')\n",
    "    ax.set_xlabel('Pixel value')\n",
    "    ax.set_xlim(0, 255)\n",
    "    \n",
    "axes[0,0].set_title('No normalisation'); axes[1,0].set_title('Gaussian normalisation'); axes[2,0].set_title('Quantile normalisation')\n",
    "\n",
    "plt.tight_layout()\n",
    "plt.savefig('../figures/spectrum_normalisations_drug.png', dpi=300, bbox_inches='tight')\n",
    "plt.show()"
   ]
  },
  {
   "cell_type": "code",
   "execution_count": null,
   "metadata": {},
   "outputs": [],
   "source": [
    "ds = Dataset(control_fnames, penetramax_fnames)"
   ]
  },
  {
   "cell_type": "code",
   "execution_count": null,
   "metadata": {},
   "outputs": [],
   "source": [
    "ds.performDimReduction()\n",
    "ds.makeKDE()"
   ]
  },
  {
   "cell_type": "code",
   "execution_count": null,
   "metadata": {},
   "outputs": [],
   "source": [
    "df_unfiltered = ds.makeSelection(q_control=-1, q_drug=-1)\n",
    "df_05 = ds.makeSelection(q_control=0.05, q_drug=0.05)\n",
    "df_10 = ds.makeSelection(q_control=0.1, q_drug=0.1)\n",
    "df_25 = ds.makeSelection(q_control=0.25, q_drug=0.25)"
   ]
  },
  {
   "cell_type": "code",
   "execution_count": null,
   "metadata": {},
   "outputs": [],
   "source": [
    "df_unfiltered.to_csv('feature_data/features_00.csv', index=False)\n",
    "df_05.to_csv('feature_data/features_05.csv', index=False)\n",
    "df_10.to_csv('feature_data/features_10.csv', index=False)\n",
    "df_25.to_csv('feature_data/features_25.csv', index=False)"
   ]
  },
  {
   "cell_type": "code",
   "execution_count": null,
   "metadata": {},
   "outputs": [],
   "source": [
    "X = df_unfiltered.drop('label', axis=1).to_numpy()\n",
    "X_labels = df_unfiltered.drop('label', axis=1).columns\n",
    "\n",
    "y = df_unfiltered['label'].to_numpy()"
   ]
  },
  {
   "cell_type": "code",
   "execution_count": null,
   "metadata": {},
   "outputs": [],
   "source": [
    "from sklearn.decomposition import PCA\n",
    "\n",
    "X_pca = PCA(n_components=2).fit_transform(X)"
   ]
  },
  {
   "cell_type": "code",
   "execution_count": null,
   "metadata": {},
   "outputs": [],
   "source": [
    "plt.figure(dpi=300)\n",
    "plt.scatter(X_pca[:,0], X_pca[:,1], s=0.5, c=['k' if val==0 else 'r' for val in y])\n",
    "plt.show()"
   ]
  },
  {
   "cell_type": "code",
   "execution_count": null,
   "metadata": {},
   "outputs": [],
   "source": []
  }
 ],
 "metadata": {
  "kernelspec": {
   "display_name": "AML_FP",
   "language": "python",
   "name": "python3"
  },
  "language_info": {
   "codemirror_mode": {
    "name": "ipython",
    "version": 3
   },
   "file_extension": ".py",
   "mimetype": "text/x-python",
   "name": "python",
   "nbconvert_exporter": "python",
   "pygments_lexer": "ipython3",
   "version": "3.12.3"
  }
 },
 "nbformat": 4,
 "nbformat_minor": 2
}
