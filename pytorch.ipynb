{
 "cells": [
  {
   "cell_type": "code",
   "execution_count": 1,
   "metadata": {},
   "outputs": [],
   "source": [
    "import numpy as np\n",
    "import matplotlib.pyplot as plt\n",
    "from tqdm import tqdm\n",
    "\n",
    "import os\n",
    "from cellpose import io\n",
    "from liams_funcs import *\n",
    "from features import *\n",
    "from pytorch import *\n",
    "\n",
    "import pandas as pd\n",
    "import torch"
   ]
  },
  {
   "cell_type": "code",
   "execution_count": 2,
   "metadata": {},
   "outputs": [],
   "source": [
    "device = 'cuda' if torch.cuda.is_available() else 'cpu'"
   ]
  },
  {
   "cell_type": "code",
   "execution_count": 3,
   "metadata": {},
   "outputs": [],
   "source": [
    "control_dir = '../control_images/'\n",
    "penetramax_dir = '../penetramax_images/'\n",
    "\n",
    "control_fnames = [control_dir + fname for fname in os.listdir(control_dir)]\n",
    "penetramax_fnames = [penetramax_dir + fname for fname in os.listdir(penetramax_dir)]"
   ]
  },
  {
   "cell_type": "code",
   "execution_count": 4,
   "metadata": {},
   "outputs": [],
   "source": [
    "#ds = Dataset(control_fnames, penetramax_fnames)\n",
    "#_ = ds.createImageDataset(final_size=224)\n",
    "\n",
    "cell_data = LoadImageDataset('pytorch_dataset/cells/')\n",
    "nucleus_data = LoadImageDataset('pytorch_dataset/nuclei/')"
   ]
  },
  {
   "cell_type": "code",
   "execution_count": 15,
   "metadata": {},
   "outputs": [],
   "source": [
    "from torch.utils.data import DataLoader, random_split\n",
    "\n",
    "train_data, val_data = random_split(nucleus_data, [0.8, 0.2])\n",
    "train_dataloader = DataLoader(train_data, batch_size=64, shuffle=True)\n",
    "val_dataloader = DataLoader(val_data, batch_size=64, shuffle=True)"
   ]
  },
  {
   "cell_type": "code",
   "execution_count": 7,
   "metadata": {},
   "outputs": [
    {
     "name": "stderr",
     "output_type": "stream",
     "text": [
      "  0%|          | 0/242 [00:00<?, ?it/s]"
     ]
    },
    {
     "name": "stderr",
     "output_type": "stream",
     "text": [
      "100%|██████████| 242/242 [36:10<00:00,  8.97s/it]\n"
     ]
    }
   ],
   "source": [
    "from torch.nn import CrossEntropyLoss\n",
    "from torch.optim import Adam\n",
    "\n",
    "n_epochs = 10\n",
    "clf = Resnet18(train_layers=2).to(device)\n",
    "loss_fn = CrossEntropyLoss()\n",
    "opt = Adam(clf.parameters(), lr=1e-3)\n",
    "\n",
    "train_losses = [get_loss(clf, train_dataloader, loss_fn)]\n",
    "val_losses = [get_loss(clf, val_dataloader, loss_fn)]\n",
    "\n",
    "for _ in range(n_epochs):\n",
    "    for X, y in tqdm(train_dataloader):\n",
    "        X, y = X.to(device), y.to(device)\n",
    "        y_pred = clf(X)\n",
    "        loss = loss_fn(y_pred, y)\n",
    "\n",
    "        opt.zero_grad()\n",
    "        loss.backward()\n",
    "        opt.step()\n",
    "\n",
    "    train_losses.append(get_loss(clf, train_dataloader, loss_fn))\n",
    "    val_losses.append(get_loss(clf, val_dataloader, loss_fn))"
   ]
  }
 ],
 "metadata": {
  "kernelspec": {
   "display_name": "AML_FP",
   "language": "python",
   "name": "python3"
  },
  "language_info": {
   "codemirror_mode": {
    "name": "ipython",
    "version": 3
   },
   "file_extension": ".py",
   "mimetype": "text/x-python",
   "name": "python",
   "nbconvert_exporter": "python",
   "pygments_lexer": "ipython3",
   "version": "3.12.3"
  }
 },
 "nbformat": 4,
 "nbformat_minor": 2
}
