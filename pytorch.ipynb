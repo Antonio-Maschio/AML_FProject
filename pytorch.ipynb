{
 "cells": [
  {
   "cell_type": "code",
   "execution_count": 1,
   "metadata": {},
   "outputs": [],
   "source": [
    "import numpy as np\n",
    "import matplotlib.pyplot as plt\n",
    "from tqdm import tqdm\n",
    "\n",
    "import os\n",
    "from cellpose import io\n",
    "from liams_funcs import *\n",
    "from features import *\n",
    "from pytorch import *\n",
    "\n",
    "import pandas as pd\n",
    "import torch"
   ]
  },
  {
   "cell_type": "code",
   "execution_count": 2,
   "metadata": {},
   "outputs": [],
   "source": [
    "device = 'cuda' if torch.cuda.is_available() else 'cpu'"
   ]
  },
  {
   "cell_type": "code",
   "execution_count": 3,
   "metadata": {},
   "outputs": [],
   "source": [
    "control_dir = '../control_images/'\n",
    "drug_dir = '../drug_images/'\n",
    "\n",
    "control_fnames = [control_dir + fname for fname in os.listdir(control_dir)]\n",
    "drug_fnames = [drug_dir + fname for fname in os.listdir(drug_dir)]"
   ]
  },
  {
   "cell_type": "code",
   "execution_count": 4,
   "metadata": {},
   "outputs": [],
   "source": [
    "#ds = Dataset(control_fnames, drug_fnames)\n",
    "#_ = ds.createImageDataset(final_size=224)\n",
    "\n",
    "cell_data = LoadImageDataset('pytorch_dataset/cells/')\n",
    "nucleus_data = LoadImageDataset('pytorch_dataset/nuclei/')"
   ]
  },
  {
   "cell_type": "code",
   "execution_count": 5,
   "metadata": {},
   "outputs": [],
   "source": [
    "from torch.utils.data import DataLoader, random_split\n",
    "\n",
    "train_data, val_data = random_split(nucleus_data, [0.8, 0.2])\n",
    "train_dataloader = DataLoader(train_data, batch_size=64, shuffle=True)\n",
    "val_dataloader = DataLoader(val_data, batch_size=64, shuffle=True)"
   ]
  },
  {
   "cell_type": "code",
   "execution_count": 28,
   "metadata": {},
   "outputs": [
    {
     "name": "stderr",
     "output_type": "stream",
     "text": [
      "/Users/liam/Python/anaconda3/envs/AML_FP/lib/python3.12/site-packages/torchvision/models/_utils.py:208: UserWarning: The parameter 'pretrained' is deprecated since 0.13 and may be removed in the future, please use 'weights' instead.\n",
      "  warnings.warn(\n",
      "/Users/liam/Python/anaconda3/envs/AML_FP/lib/python3.12/site-packages/torchvision/models/_utils.py:223: UserWarning: Arguments other than a weight enum or `None` for 'weights' are deprecated since 0.13 and may be removed in the future. The current behavior is equivalent to passing `weights=ResNet18_Weights.IMAGENET1K_V1`. You can also use `weights=ResNet18_Weights.DEFAULT` to get the most up-to-date weights.\n",
      "  warnings.warn(msg)\n"
     ]
    }
   ],
   "source": [
    "n_epochs = 10\n",
    "epochs = np.arange(0, n_epochs+0.5, dtype=int)\n",
    "times = np.linspace(n_epochs, 0, n_epochs * len(train_dataloader), endpoint=False)[::-1]\n",
    "\n",
    "clf_2k = Resnet18(train_layers=2).to(device)\n",
    "clf_500k = Resnet18(train_layers=4).to(device)\n",
    "clf_3M = Resnet18(train_layers=6).to(device)\n",
    "clf_12M = Resnet18(train_layers=int(1e8)).to(device)"
   ]
  },
  {
   "cell_type": "code",
   "execution_count": null,
   "metadata": {},
   "outputs": [],
   "source": [
    "from torch.nn import CrossEntropyLoss\n",
    "from torch.optim import Adam\n",
    "\n",
    "fig, axes = plt.subplots(4, 1, figsize=(12,16), dpi=300)\n",
    "\n",
    "for ax, clf, name in zip(axes.flatten(), [clf_2k, clf_500k, clf_3M, clf_12M], ['2k', '500k', '3M', '12M']):\n",
    "    \n",
    "    loss_fn = CrossEntropyLoss()\n",
    "    opt = Adam(clf.parameters(), lr=1e-5)\n",
    "\n",
    "    start_val, start_acc = apply_val(clf, val_dataloader, loss_fn, device=device)\n",
    "\n",
    "    train_losses = []\n",
    "    val_losses = [start_val]\n",
    "    val_acc = [start_acc]\n",
    "\n",
    "    for _ in range(n_epochs):\n",
    "        for X, y in tqdm(train_dataloader):\n",
    "            X, y = X.to(device), y.to(device)\n",
    "            y_pred = clf(X)\n",
    "            loss = loss_fn(y_pred, y)\n",
    "\n",
    "            opt.zero_grad()\n",
    "            loss.backward()\n",
    "            opt.step()\n",
    "\n",
    "            train_losses.append(loss.item())\n",
    "        val, acc = apply_val(clf, val_dataloader, loss_fn, device=device)\n",
    "        val_losses.append(val)\n",
    "        val_acc.append(acc)\n",
    "\n",
    "    ax.set_title(name)\n",
    "    ax.plot(times, train_losses, '-', c='darkcyan', label='train', alpha=0.5)\n",
    "    ax.plot(epochs, val_losses, '-o', c='coral', label='validation')\n",
    "    ax.plot(epochs, val_acc, '-o', c='orchid', label='accuracy')\n",
    "\n",
    "    ax.set_xlim(-0.5, n_epochs+0.5); ax.set_ylim(0, 1)\n",
    "    ax.set_xlabel('Epoch')\n",
    "    ax.legend(loc='lower left')\n",
    "\n",
    "plt.tight_layout()\n",
    "plt.savefig('../figures/resnet_benchmarks.png', dpi=300, bbox_inches='tight')\n",
    "plt.show()"
   ]
  }
 ],
 "metadata": {
  "kernelspec": {
   "display_name": "AML_FP",
   "language": "python",
   "name": "python3"
  },
  "language_info": {
   "codemirror_mode": {
    "name": "ipython",
    "version": 3
   },
   "file_extension": ".py",
   "mimetype": "text/x-python",
   "name": "python",
   "nbconvert_exporter": "python",
   "pygments_lexer": "ipython3",
   "version": "3.12.3"
  }
 },
 "nbformat": 4,
 "nbformat_minor": 2
}
